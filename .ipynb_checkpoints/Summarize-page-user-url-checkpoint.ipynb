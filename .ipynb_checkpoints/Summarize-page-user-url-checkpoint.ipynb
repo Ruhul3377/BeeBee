{
 "cells": [
  {
   "cell_type": "markdown",
   "metadata": {},
   "source": [
    "请用python 写一个小程序，允许用户输入 任意 URL，全面呈现并总结这个 URL 的页面内容，请部署到线上可以测试。\n",
    "\n",
    "Please use python to write a small program that allows users to enter any URL, comprehensively presents and summarizes the page content of this URL, and please deploy it online for testing."
   ]
  },
  {
   "cell_type": "markdown",
   "metadata": {},
   "source": [
    "Now, you can create a Python script with the following code:"
   ]
  },
  {
   "cell_type": "code",
   "execution_count": null,
   "metadata": {},
   "outputs": [],
   "source": [
    "! pip install flask requests beautifulsoup4"
   ]
  },
  {
   "cell_type": "code",
   "execution_count": null,
   "metadata": {},
   "outputs": [],
   "source": [
    "from flask import Flask, render_template, request\n",
    "import requests\n",
    "from bs4 import BeautifulSoup\n",
    "\n",
    "app = Flask(__name__)\n",
    "\n",
    "def get_page_content(url):\n",
    "    try:\n",
    "        response = requests.get(url)\n",
    "        response.raise_for_status()  # Check for any request errors\n",
    "\n",
    "        soup = BeautifulSoup(response.text, 'html.parser')\n",
    "        paragraphs = soup.find_all('p')  # Extract paragraphs\n",
    "\n",
    "        # Summarize content (you can customize this part)\n",
    "        summary = \"\\n\".join([p.get_text() for p in paragraphs[:3]])\n",
    "\n",
    "        return summary\n",
    "    except requests.exceptions.RequestException as e:\n",
    "        return f\"Error fetching content: {e}\"\n",
    "\n",
    "@app.route('/', methods=['GET', 'POST'])\n",
    "def index():\n",
    "    if request.method == 'POST':\n",
    "        url = request.form['url']\n",
    "        summary = get_page_content(url)\n",
    "        return render_template('index.html', url=url, summary=summary)\n",
    "    return render_template('index.html', url='', summary='')\n",
    "\n",
    "if __name__ == '__main__':\n",
    "    app.run(debug=True)\n"
   ]
  },
  {
   "cell_type": "markdown",
   "metadata": {},
   "source": [
    "Save this code in a file, for example, web_summary.py. Now, let's create an HTML template for rendering the form and displaying the results. Create a folder named templates in the same directory as your script, and inside it, create a file named index.html with the following content:"
   ]
  },
  {
   "cell_type": "code",
   "execution_count": null,
   "metadata": {},
   "outputs": [],
   "source": [
    "html\n",
    "Copy code\n",
    "<!DOCTYPE html>\n",
    "<html lang=\"en\">\n",
    "<head>\n",
    "    <meta charset=\"UTF-8\">\n",
    "    <meta http-equiv=\"X-UA-Compatible\" content=\"IE=edge\">\n",
    "    <meta name=\"viewport\" content=\"width=device-width, initial-scale=1.0\">\n",
    "    <title>Web Page Summary</title>\n",
    "</head>\n",
    "<body>\n",
    "    <h1>Web Page Summary</h1>\n",
    "    <form method=\"post\">\n",
    "        <label for=\"url\">Enter URL:</label>\n",
    "        <input type=\"text\" id=\"url\" name=\"url\" value=\"{{ url }}\" required>\n",
    "        <button type=\"submit\">Get Summary</button>\n",
    "    </form>\n",
    "    {% if summary %}\n",
    "        <h2>Summary:</h2>\n",
    "        <p>{{ summary }}</p>\n",
    "    {% endif %}\n",
    "</body>\n",
    "</html>"
   ]
  },
  {
   "cell_type": "markdown",
   "metadata": {},
   "source": [
    "Now, run your Python script:"
   ]
  },
  {
   "cell_type": "code",
   "execution_count": null,
   "metadata": {},
   "outputs": [],
   "source": [
    "python web_summary.py"
   ]
  },
  {
   "cell_type": "markdown",
   "metadata": {},
   "source": [
    "Visit http://127.0.0.1:5000/ in your browser to test the web application locally. Enter a URL, and it will display a simple summary of the web page content.\n",
    "\n",
    "\n",
    "\n",
    "\n"
   ]
  },
  {
   "cell_type": "code",
   "execution_count": null,
   "metadata": {},
   "outputs": [],
   "source": []
  },
  {
   "cell_type": "code",
   "execution_count": null,
   "metadata": {},
   "outputs": [],
   "source": []
  }
 ],
 "metadata": {
  "kernelspec": {
   "display_name": "Python 3 (ipykernel)",
   "language": "python",
   "name": "python3"
  },
  "language_info": {
   "codemirror_mode": {
    "name": "ipython",
    "version": 3
   },
   "file_extension": ".py",
   "mimetype": "text/x-python",
   "name": "python",
   "nbconvert_exporter": "python",
   "pygments_lexer": "ipython3",
   "version": "3.7.16"
  }
 },
 "nbformat": 4,
 "nbformat_minor": 2
}
