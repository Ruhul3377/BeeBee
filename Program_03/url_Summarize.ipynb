{
 "cells": [
  {
   "cell_type": "code",
   "execution_count": 5,
   "id": "773f591d",
   "metadata": {},
   "outputs": [],
   "source": [
    "import requests\n",
    "from bs4 import BeautifulSoup\n",
    "import nltk\n",
    "from nltk.corpus import stopwords\n",
    "from nltk.tokenize import sent_tokenize, word_tokenize"
   ]
  },
  {
   "cell_type": "code",
   "execution_count": 6,
   "id": "44f3052c",
   "metadata": {},
   "outputs": [
    {
     "name": "stdout",
     "output_type": "stream",
     "text": [
      "Companies Earnings calls Financial reports Hot News \n",
      " There is no news on the current date! \n",
      "    *By calculating price volume at market close, Top Movers identifies those with the most percentage change to present you with the most significant market movers.\n",
      "   \n",
      "            Earnings calls are public, scrutinized by experts where the\n",
      "            management provides relatively authentic,\n",
      "            unembellished information under regulatory frameworks. If an investor could only read one document, I'd suggest diving\n",
      "            into the summary of earnings conference calls.\n",
      "           \n",
      "                Based on every earnings conference call transcript, we produce an automated extraction across six modules.\n",
      "               \n",
      "            Financial statements provide external stakeholders with a\n",
      "            detailed, objective, and audited snapshot of a company's financial\n",
      "            health, operational state, and long-term strategy. For investors\n",
      "            keen on gaining an in-depth understanding of a\n",
      "            company's health, it's the\n",
      "            primary and\n",
      "            indispensable source of information.\n",
      "            Quickly find out the data and facts you care about in lengthy financial documents four tables, all of which can compare data from the same period, making it easier for users to calculate depth values. \n",
      "            Lists can\n",
      "            quickly highlight standout companies\n",
      "            and CEOs. Through comparing\n",
      "            controversiality, influence, and competitiveness, if ten companies\n",
      "            daily prove worth discovering and studying, it's already plenty\n",
      "            for most.\n",
      "           \n",
      "        Already have an account ?\n",
      "        Sign in\n"
     ]
    }
   ],
   "source": [
    "def extract_text_from_url(url):\n",
    "    page = requests.get(url)\n",
    "    soup = BeautifulSoup(page.content, \"html.parser\")\n",
    "\n",
    "    paragraphs = soup.find_all(\"p\")\n",
    "    text = \" \".join([p.get_text() for p in paragraphs])\n",
    "\n",
    "    return text\n",
    "\n",
    "url = \"https://www.beebee.ai/\"\n",
    "text = extract_text_from_url(url)\n",
    "print(text)"
   ]
  },
  {
   "cell_type": "code",
   "execution_count": null,
   "id": "9c13cd44",
   "metadata": {},
   "outputs": [],
   "source": [
    "# !pip install nltk\n",
    "\n",
    "import nltk \n",
    "nltk.download('stopwords')"
   ]
  },
  {
   "cell_type": "code",
   "execution_count": null,
   "id": "cb44e2aa",
   "metadata": {},
   "outputs": [],
   "source": [
    "# !pip install nltk"
   ]
  },
  {
   "cell_type": "code",
   "execution_count": null,
   "id": "1cc15068",
   "metadata": {
    "scrolled": false
   },
   "outputs": [],
   "source": [
    "nltk.download(\"punkt\")\n",
    "nltk.download(\"stopwords\")\n",
    "\n",
    "def preprocess_text(text):\n",
    "    sentences = sent_tokenize(text)\n",
    "    stop_words = set(stopwords.words(\"english\"))\n",
    "\n",
    "    words = [word_tokenize(sentence.lower()) for sentence in sentences]\n",
    "    words = [[word for word in sentence if word.isalnum() and word not in stop_words] for sentence in words]\n",
    "\n",
    "    return sentences, words\n",
    "\n",
    "sentences, words = preprocess_text(text)\n",
    "print(sentences)\n",
    "print(words)"
   ]
  },
  {
   "cell_type": "code",
   "execution_count": null,
   "id": "c59bdaeb",
   "metadata": {},
   "outputs": [],
   "source": []
  },
  {
   "cell_type": "code",
   "execution_count": null,
   "id": "1b9ea0a6",
   "metadata": {},
   "outputs": [],
   "source": []
  },
  {
   "cell_type": "code",
   "execution_count": null,
   "id": "044bb72c",
   "metadata": {},
   "outputs": [],
   "source": []
  },
  {
   "cell_type": "code",
   "execution_count": null,
   "id": "49eba161",
   "metadata": {},
   "outputs": [],
   "source": []
  }
 ],
 "metadata": {
  "kernelspec": {
   "display_name": "Python 3 (ipykernel)",
   "language": "python",
   "name": "python3"
  },
  "language_info": {
   "codemirror_mode": {
    "name": "ipython",
    "version": 3
   },
   "file_extension": ".py",
   "mimetype": "text/x-python",
   "name": "python",
   "nbconvert_exporter": "python",
   "pygments_lexer": "ipython3",
   "version": "3.7.16"
  }
 },
 "nbformat": 4,
 "nbformat_minor": 5
}
